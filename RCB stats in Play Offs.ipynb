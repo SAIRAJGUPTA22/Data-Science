{
 "cells": [
  {
   "cell_type": "code",
   "execution_count": 1,
   "id": "29481600",
   "metadata": {},
   "outputs": [],
   "source": [
    "import warnings\n",
    "warnings.filterwarnings('ignore')\n",
    "import numpy as np\n",
    "import pandas as pd\n",
    "import matplotlib.pyplot as plt\n",
    "pd.set_option('display.max_rows',None)\n",
    "pd.set_option('display.max_columns',None)\n",
    "pd.set_option('display.expand_frame_repr',False)\n",
    "pd.set_option('max_colwidth',-1)"
   ]
  },
  {
   "cell_type": "code",
   "execution_count": null,
   "id": "c5b2b2c7",
   "metadata": {},
   "outputs": [],
   "source": [
    "# List of Matches RCB played in playoff's\n",
    "#Match Date - Team1 vs Team2 - Winner\n",
    "#23-05-2009 - CSK VS RCB - RCB\n",
    "#24-05-2009 - DC VS RCB - DC\n",
    "#21-04-2010 - MI VS RCB - MI\n",
    "#24-05-2011 - CSK VS RCB - CSK\n",
    "#27-05-2011 - RCB VS MI - RCB\n",
    "#28-05-2011 - CSK VS RCB - CSK\n",
    "#20-05-2015 - RCB VS RR - RCB\n",
    "#22-05-2015 - CSK VS RCB - CSK\n",
    "#24-05-2016 - GL VS RCB - RCB\n",
    "#29-05-2016 - RCB VS SRH - SRH\n",
    "#06-11-2020 - RCB VS SRH - SRH\n",
    "#11-10-2021 - KKR VS RCB - KKR\n",
    "#25-05-2022 - LSG VS RCB - RCB\n",
    "#27-05-2022 - RR VS RCB - RR\n",
    "\n",
    "\n"
   ]
  },
  {
   "cell_type": "code",
   "execution_count": 2,
   "id": "ea987109",
   "metadata": {},
   "outputs": [],
   "source": [
    "match_df = pd.read_csv('IPL_Matches_2008_2022.csv')"
   ]
  },
  {
   "cell_type": "code",
   "execution_count": 3,
   "id": "2819417d",
   "metadata": {},
   "outputs": [
    {
     "data": {
      "text/html": [
       "<div>\n",
       "<style scoped>\n",
       "    .dataframe tbody tr th:only-of-type {\n",
       "        vertical-align: middle;\n",
       "    }\n",
       "\n",
       "    .dataframe tbody tr th {\n",
       "        vertical-align: top;\n",
       "    }\n",
       "\n",
       "    .dataframe thead th {\n",
       "        text-align: right;\n",
       "    }\n",
       "</style>\n",
       "<table border=\"1\" class=\"dataframe\">\n",
       "  <thead>\n",
       "    <tr style=\"text-align: right;\">\n",
       "      <th></th>\n",
       "      <th>ID</th>\n",
       "      <th>City</th>\n",
       "      <th>Date</th>\n",
       "      <th>Season</th>\n",
       "      <th>MatchNumber</th>\n",
       "      <th>Team1</th>\n",
       "      <th>Team2</th>\n",
       "      <th>Venue</th>\n",
       "      <th>TossWinner</th>\n",
       "      <th>TossDecision</th>\n",
       "      <th>SuperOver</th>\n",
       "      <th>WinningTeam</th>\n",
       "      <th>WonBy</th>\n",
       "      <th>Margin</th>\n",
       "      <th>method</th>\n",
       "      <th>Player_of_Match</th>\n",
       "      <th>Team1Players</th>\n",
       "      <th>Team2Players</th>\n",
       "      <th>Umpire1</th>\n",
       "      <th>Umpire2</th>\n",
       "    </tr>\n",
       "  </thead>\n",
       "  <tbody>\n",
       "    <tr>\n",
       "      <th>0</th>\n",
       "      <td>1312200</td>\n",
       "      <td>Ahmedabad</td>\n",
       "      <td>2022-05-29</td>\n",
       "      <td>2022</td>\n",
       "      <td>Final</td>\n",
       "      <td>Rajasthan Royals</td>\n",
       "      <td>Gujarat Titans</td>\n",
       "      <td>Narendra Modi Stadium, Ahmedabad</td>\n",
       "      <td>Rajasthan Royals</td>\n",
       "      <td>bat</td>\n",
       "      <td>N</td>\n",
       "      <td>Gujarat Titans</td>\n",
       "      <td>Wickets</td>\n",
       "      <td>7.0</td>\n",
       "      <td>NaN</td>\n",
       "      <td>HH Pandya</td>\n",
       "      <td>['YBK Jaiswal', 'JC Buttler', 'SV Samson', 'D Padikkal', 'SO Hetmyer', 'R Ashwin', 'R Parag', 'TA Boult', 'OC McCoy', 'M Prasidh Krishna', 'YS Chahal']</td>\n",
       "      <td>['WP Saha', 'Shubman Gill', 'MS Wade', 'HH Pandya', 'DA Miller', 'R Tewatia', 'Rashid Khan', 'R Sai Kishore', 'LH Ferguson', 'Yash Dayal', 'Mohammed Shami']</td>\n",
       "      <td>CB Gaffaney</td>\n",
       "      <td>Nitin Menon</td>\n",
       "    </tr>\n",
       "    <tr>\n",
       "      <th>1</th>\n",
       "      <td>1312199</td>\n",
       "      <td>Ahmedabad</td>\n",
       "      <td>2022-05-27</td>\n",
       "      <td>2022</td>\n",
       "      <td>Qualifier 2</td>\n",
       "      <td>Royal Challengers Bangalore</td>\n",
       "      <td>Rajasthan Royals</td>\n",
       "      <td>Narendra Modi Stadium, Ahmedabad</td>\n",
       "      <td>Rajasthan Royals</td>\n",
       "      <td>field</td>\n",
       "      <td>N</td>\n",
       "      <td>Rajasthan Royals</td>\n",
       "      <td>Wickets</td>\n",
       "      <td>7.0</td>\n",
       "      <td>NaN</td>\n",
       "      <td>JC Buttler</td>\n",
       "      <td>['V Kohli', 'F du Plessis', 'RM Patidar', 'GJ Maxwell', 'MK Lomror', 'KD Karthik', 'Shahbaz Ahmed', 'PWH de Silva', 'HV Patel', 'JR Hazlewood', 'Mohammed Siraj']</td>\n",
       "      <td>['YBK Jaiswal', 'JC Buttler', 'SV Samson', 'D Padikkal', 'SO Hetmyer', 'R Parag', 'R Ashwin', 'TA Boult', 'YS Chahal', 'M Prasidh Krishna', 'OC McCoy']</td>\n",
       "      <td>CB Gaffaney</td>\n",
       "      <td>Nitin Menon</td>\n",
       "    </tr>\n",
       "    <tr>\n",
       "      <th>2</th>\n",
       "      <td>1312198</td>\n",
       "      <td>Kolkata</td>\n",
       "      <td>2022-05-25</td>\n",
       "      <td>2022</td>\n",
       "      <td>Eliminator</td>\n",
       "      <td>Royal Challengers Bangalore</td>\n",
       "      <td>Lucknow Super Giants</td>\n",
       "      <td>Eden Gardens, Kolkata</td>\n",
       "      <td>Lucknow Super Giants</td>\n",
       "      <td>field</td>\n",
       "      <td>N</td>\n",
       "      <td>Royal Challengers Bangalore</td>\n",
       "      <td>Runs</td>\n",
       "      <td>14.0</td>\n",
       "      <td>NaN</td>\n",
       "      <td>RM Patidar</td>\n",
       "      <td>['V Kohli', 'F du Plessis', 'RM Patidar', 'GJ Maxwell', 'MK Lomror', 'KD Karthik', 'Shahbaz Ahmed', 'HV Patel', 'PWH de Silva', 'JR Hazlewood', 'Mohammed Siraj']</td>\n",
       "      <td>['Q de Kock', 'KL Rahul', 'M Vohra', 'DJ Hooda', 'MP Stoinis', 'E Lewis', 'KH Pandya', 'PVD Chameera', 'Mohsin Khan', 'Avesh Khan', 'Ravi Bishnoi']</td>\n",
       "      <td>J Madanagopal</td>\n",
       "      <td>MA Gough</td>\n",
       "    </tr>\n",
       "    <tr>\n",
       "      <th>3</th>\n",
       "      <td>1312197</td>\n",
       "      <td>Kolkata</td>\n",
       "      <td>2022-05-24</td>\n",
       "      <td>2022</td>\n",
       "      <td>Qualifier 1</td>\n",
       "      <td>Rajasthan Royals</td>\n",
       "      <td>Gujarat Titans</td>\n",
       "      <td>Eden Gardens, Kolkata</td>\n",
       "      <td>Gujarat Titans</td>\n",
       "      <td>field</td>\n",
       "      <td>N</td>\n",
       "      <td>Gujarat Titans</td>\n",
       "      <td>Wickets</td>\n",
       "      <td>7.0</td>\n",
       "      <td>NaN</td>\n",
       "      <td>DA Miller</td>\n",
       "      <td>['YBK Jaiswal', 'JC Buttler', 'SV Samson', 'D Padikkal', 'SO Hetmyer', 'R Parag', 'R Ashwin', 'TA Boult', 'YS Chahal', 'M Prasidh Krishna', 'OC McCoy']</td>\n",
       "      <td>['WP Saha', 'Shubman Gill', 'MS Wade', 'HH Pandya', 'DA Miller', 'R Tewatia', 'Rashid Khan', 'R Sai Kishore', 'AS Joseph', 'Yash Dayal', 'Mohammed Shami']</td>\n",
       "      <td>BNJ Oxenford</td>\n",
       "      <td>VK Sharma</td>\n",
       "    </tr>\n",
       "    <tr>\n",
       "      <th>4</th>\n",
       "      <td>1304116</td>\n",
       "      <td>Mumbai</td>\n",
       "      <td>2022-05-22</td>\n",
       "      <td>2022</td>\n",
       "      <td>70</td>\n",
       "      <td>Sunrisers Hyderabad</td>\n",
       "      <td>Punjab Kings</td>\n",
       "      <td>Wankhede Stadium, Mumbai</td>\n",
       "      <td>Sunrisers Hyderabad</td>\n",
       "      <td>bat</td>\n",
       "      <td>N</td>\n",
       "      <td>Punjab Kings</td>\n",
       "      <td>Wickets</td>\n",
       "      <td>5.0</td>\n",
       "      <td>NaN</td>\n",
       "      <td>Harpreet Brar</td>\n",
       "      <td>['PK Garg', 'Abhishek Sharma', 'RA Tripathi', 'AK Markram', 'N Pooran', 'Washington Sundar', 'R Shepherd', 'J Suchith', 'B Kumar', 'Umran Malik', 'Fazalhaq Farooqi']</td>\n",
       "      <td>['JM Bairstow', 'S Dhawan', 'M Shahrukh Khan', 'MA Agarwal', 'LS Livingstone', 'JM Sharma', 'PN Mankad', 'Harpreet Brar', 'K Rabada', 'NT Ellis', 'Arshdeep Singh']</td>\n",
       "      <td>AK Chaudhary</td>\n",
       "      <td>NA Patwardhan</td>\n",
       "    </tr>\n",
       "  </tbody>\n",
       "</table>\n",
       "</div>"
      ],
      "text/plain": [
       "        ID       City        Date Season  MatchNumber                        Team1                 Team2                             Venue            TossWinner TossDecision SuperOver                  WinningTeam    WonBy  Margin method Player_of_Match                                                                                                                                                           Team1Players                                                                                                                                                         Team2Players        Umpire1        Umpire2\n",
       "0  1312200  Ahmedabad  2022-05-29  2022   Final        Rajasthan Royals             Gujarat Titans        Narendra Modi Stadium, Ahmedabad  Rajasthan Royals      bat          N         Gujarat Titans               Wickets  7.0     NaN    HH Pandya       ['YBK Jaiswal', 'JC Buttler', 'SV Samson', 'D Padikkal', 'SO Hetmyer', 'R Ashwin', 'R Parag', 'TA Boult', 'OC McCoy', 'M Prasidh Krishna', 'YS Chahal']                ['WP Saha', 'Shubman Gill', 'MS Wade', 'HH Pandya', 'DA Miller', 'R Tewatia', 'Rashid Khan', 'R Sai Kishore', 'LH Ferguson', 'Yash Dayal', 'Mohammed Shami']         CB Gaffaney    Nitin Menon  \n",
       "1  1312199  Ahmedabad  2022-05-27  2022   Qualifier 2  Royal Challengers Bangalore  Rajasthan Royals      Narendra Modi Stadium, Ahmedabad  Rajasthan Royals      field        N         Rajasthan Royals             Wickets  7.0     NaN    JC Buttler      ['V Kohli', 'F du Plessis', 'RM Patidar', 'GJ Maxwell', 'MK Lomror', 'KD Karthik', 'Shahbaz Ahmed', 'PWH de Silva', 'HV Patel', 'JR Hazlewood', 'Mohammed Siraj']      ['YBK Jaiswal', 'JC Buttler', 'SV Samson', 'D Padikkal', 'SO Hetmyer', 'R Parag', 'R Ashwin', 'TA Boult', 'YS Chahal', 'M Prasidh Krishna', 'OC McCoy']              CB Gaffaney    Nitin Menon  \n",
       "2  1312198  Kolkata    2022-05-25  2022   Eliminator   Royal Challengers Bangalore  Lucknow Super Giants  Eden Gardens, Kolkata             Lucknow Super Giants  field        N         Royal Challengers Bangalore  Runs     14.0    NaN    RM Patidar      ['V Kohli', 'F du Plessis', 'RM Patidar', 'GJ Maxwell', 'MK Lomror', 'KD Karthik', 'Shahbaz Ahmed', 'HV Patel', 'PWH de Silva', 'JR Hazlewood', 'Mohammed Siraj']      ['Q de Kock', 'KL Rahul', 'M Vohra', 'DJ Hooda', 'MP Stoinis', 'E Lewis', 'KH Pandya', 'PVD Chameera', 'Mohsin Khan', 'Avesh Khan', 'Ravi Bishnoi']                  J Madanagopal  MA Gough     \n",
       "3  1312197  Kolkata    2022-05-24  2022   Qualifier 1  Rajasthan Royals             Gujarat Titans        Eden Gardens, Kolkata             Gujarat Titans        field        N         Gujarat Titans               Wickets  7.0     NaN    DA Miller       ['YBK Jaiswal', 'JC Buttler', 'SV Samson', 'D Padikkal', 'SO Hetmyer', 'R Parag', 'R Ashwin', 'TA Boult', 'YS Chahal', 'M Prasidh Krishna', 'OC McCoy']                ['WP Saha', 'Shubman Gill', 'MS Wade', 'HH Pandya', 'DA Miller', 'R Tewatia', 'Rashid Khan', 'R Sai Kishore', 'AS Joseph', 'Yash Dayal', 'Mohammed Shami']           BNJ Oxenford   VK Sharma    \n",
       "4  1304116  Mumbai     2022-05-22  2022   70           Sunrisers Hyderabad          Punjab Kings          Wankhede Stadium, Mumbai          Sunrisers Hyderabad   bat          N         Punjab Kings                 Wickets  5.0     NaN    Harpreet Brar   ['PK Garg', 'Abhishek Sharma', 'RA Tripathi', 'AK Markram', 'N Pooran', 'Washington Sundar', 'R Shepherd', 'J Suchith', 'B Kumar', 'Umran Malik', 'Fazalhaq Farooqi']  ['JM Bairstow', 'S Dhawan', 'M Shahrukh Khan', 'MA Agarwal', 'LS Livingstone', 'JM Sharma', 'PN Mankad', 'Harpreet Brar', 'K Rabada', 'NT Ellis', 'Arshdeep Singh']  AK Chaudhary   NA Patwardhan"
      ]
     },
     "execution_count": 3,
     "metadata": {},
     "output_type": "execute_result"
    }
   ],
   "source": [
    "match_df.head(5)"
   ]
  },
  {
   "cell_type": "code",
   "execution_count": 4,
   "id": "70a61acb",
   "metadata": {},
   "outputs": [
    {
     "data": {
      "text/html": [
       "<div>\n",
       "<style scoped>\n",
       "    .dataframe tbody tr th:only-of-type {\n",
       "        vertical-align: middle;\n",
       "    }\n",
       "\n",
       "    .dataframe tbody tr th {\n",
       "        vertical-align: top;\n",
       "    }\n",
       "\n",
       "    .dataframe thead th {\n",
       "        text-align: right;\n",
       "    }\n",
       "</style>\n",
       "<table border=\"1\" class=\"dataframe\">\n",
       "  <thead>\n",
       "    <tr style=\"text-align: right;\">\n",
       "      <th></th>\n",
       "      <th>ID</th>\n",
       "      <th>City</th>\n",
       "      <th>Date</th>\n",
       "      <th>Season</th>\n",
       "      <th>MatchNumber</th>\n",
       "      <th>Team1</th>\n",
       "      <th>Team2</th>\n",
       "      <th>Venue</th>\n",
       "      <th>TossWinner</th>\n",
       "      <th>TossDecision</th>\n",
       "      <th>SuperOver</th>\n",
       "      <th>WinningTeam</th>\n",
       "      <th>WonBy</th>\n",
       "      <th>Margin</th>\n",
       "      <th>method</th>\n",
       "      <th>Player_of_Match</th>\n",
       "      <th>Team1Players</th>\n",
       "      <th>Team2Players</th>\n",
       "      <th>Umpire1</th>\n",
       "      <th>Umpire2</th>\n",
       "    </tr>\n",
       "  </thead>\n",
       "  <tbody>\n",
       "    <tr>\n",
       "      <th>1</th>\n",
       "      <td>1312199</td>\n",
       "      <td>Ahmedabad</td>\n",
       "      <td>2022-05-27</td>\n",
       "      <td>2022</td>\n",
       "      <td>Qualifier 2</td>\n",
       "      <td>Royal Challengers Bangalore</td>\n",
       "      <td>Rajasthan Royals</td>\n",
       "      <td>Narendra Modi Stadium, Ahmedabad</td>\n",
       "      <td>Rajasthan Royals</td>\n",
       "      <td>field</td>\n",
       "      <td>N</td>\n",
       "      <td>Rajasthan Royals</td>\n",
       "      <td>Wickets</td>\n",
       "      <td>7.0</td>\n",
       "      <td>NaN</td>\n",
       "      <td>JC Buttler</td>\n",
       "      <td>['V Kohli', 'F du Plessis', 'RM Patidar', 'GJ Maxwell', 'MK Lomror', 'KD Karthik', 'Shahbaz Ahmed', 'PWH de Silva', 'HV Patel', 'JR Hazlewood', 'Mohammed Siraj']</td>\n",
       "      <td>['YBK Jaiswal', 'JC Buttler', 'SV Samson', 'D Padikkal', 'SO Hetmyer', 'R Parag', 'R Ashwin', 'TA Boult', 'YS Chahal', 'M Prasidh Krishna', 'OC McCoy']</td>\n",
       "      <td>CB Gaffaney</td>\n",
       "      <td>Nitin Menon</td>\n",
       "    </tr>\n",
       "  </tbody>\n",
       "</table>\n",
       "</div>"
      ],
      "text/plain": [
       "        ID       City        Date Season  MatchNumber                        Team1             Team2                             Venue        TossWinner TossDecision SuperOver       WinningTeam    WonBy  Margin method Player_of_Match                                                                                                                                                       Team1Players                                                                                                                                             Team2Players      Umpire1      Umpire2\n",
       "1  1312199  Ahmedabad  2022-05-27  2022   Qualifier 2  Royal Challengers Bangalore  Rajasthan Royals  Narendra Modi Stadium, Ahmedabad  Rajasthan Royals  field        N         Rajasthan Royals  Wickets  7.0     NaN    JC Buttler      ['V Kohli', 'F du Plessis', 'RM Patidar', 'GJ Maxwell', 'MK Lomror', 'KD Karthik', 'Shahbaz Ahmed', 'PWH de Silva', 'HV Patel', 'JR Hazlewood', 'Mohammed Siraj']  ['YBK Jaiswal', 'JC Buttler', 'SV Samson', 'D Padikkal', 'SO Hetmyer', 'R Parag', 'R Ashwin', 'TA Boult', 'YS Chahal', 'M Prasidh Krishna', 'OC McCoy']  CB Gaffaney  Nitin Menon"
      ]
     },
     "execution_count": 4,
     "metadata": {},
     "output_type": "execute_result"
    }
   ],
   "source": [
    "match_df1 =match_df[match_df['Date']=='2022-05-27']\n",
    "match_df1"
   ]
  },
  {
   "cell_type": "code",
   "execution_count": 5,
   "id": "a347a49b",
   "metadata": {},
   "outputs": [],
   "source": [
    "playoff = match_df[(match_df['MatchNumber']=='Semi Final')|(match_df['MatchNumber']=='Final')|(match_df['MatchNumber']=='Qualifier 1')|(match_df['MatchNumber']=='Qualifier 2')|(match_df['MatchNumber']=='Eliminator')]"
   ]
  },
  {
   "cell_type": "code",
   "execution_count": 6,
   "id": "9b77da2d",
   "metadata": {},
   "outputs": [
    {
     "data": {
      "text/html": [
       "<div>\n",
       "<style scoped>\n",
       "    .dataframe tbody tr th:only-of-type {\n",
       "        vertical-align: middle;\n",
       "    }\n",
       "\n",
       "    .dataframe tbody tr th {\n",
       "        vertical-align: top;\n",
       "    }\n",
       "\n",
       "    .dataframe thead th {\n",
       "        text-align: right;\n",
       "    }\n",
       "</style>\n",
       "<table border=\"1\" class=\"dataframe\">\n",
       "  <thead>\n",
       "    <tr style=\"text-align: right;\">\n",
       "      <th></th>\n",
       "      <th>ID</th>\n",
       "      <th>City</th>\n",
       "      <th>Date</th>\n",
       "      <th>Season</th>\n",
       "      <th>MatchNumber</th>\n",
       "      <th>Team1</th>\n",
       "      <th>Team2</th>\n",
       "      <th>Venue</th>\n",
       "      <th>TossWinner</th>\n",
       "      <th>TossDecision</th>\n",
       "      <th>SuperOver</th>\n",
       "      <th>WinningTeam</th>\n",
       "      <th>WonBy</th>\n",
       "      <th>Margin</th>\n",
       "      <th>method</th>\n",
       "      <th>Player_of_Match</th>\n",
       "      <th>Team1Players</th>\n",
       "      <th>Team2Players</th>\n",
       "      <th>Umpire1</th>\n",
       "      <th>Umpire2</th>\n",
       "    </tr>\n",
       "  </thead>\n",
       "  <tbody>\n",
       "    <tr>\n",
       "      <th>0</th>\n",
       "      <td>1312200</td>\n",
       "      <td>Ahmedabad</td>\n",
       "      <td>2022-05-29</td>\n",
       "      <td>2022</td>\n",
       "      <td>Final</td>\n",
       "      <td>Rajasthan Royals</td>\n",
       "      <td>Gujarat Titans</td>\n",
       "      <td>Narendra Modi Stadium, Ahmedabad</td>\n",
       "      <td>Rajasthan Royals</td>\n",
       "      <td>bat</td>\n",
       "      <td>N</td>\n",
       "      <td>Gujarat Titans</td>\n",
       "      <td>Wickets</td>\n",
       "      <td>7.0</td>\n",
       "      <td>NaN</td>\n",
       "      <td>HH Pandya</td>\n",
       "      <td>['YBK Jaiswal', 'JC Buttler', 'SV Samson', 'D Padikkal', 'SO Hetmyer', 'R Ashwin', 'R Parag', 'TA Boult', 'OC McCoy', 'M Prasidh Krishna', 'YS Chahal']</td>\n",
       "      <td>['WP Saha', 'Shubman Gill', 'MS Wade', 'HH Pandya', 'DA Miller', 'R Tewatia', 'Rashid Khan', 'R Sai Kishore', 'LH Ferguson', 'Yash Dayal', 'Mohammed Shami']</td>\n",
       "      <td>CB Gaffaney</td>\n",
       "      <td>Nitin Menon</td>\n",
       "    </tr>\n",
       "    <tr>\n",
       "      <th>1</th>\n",
       "      <td>1312199</td>\n",
       "      <td>Ahmedabad</td>\n",
       "      <td>2022-05-27</td>\n",
       "      <td>2022</td>\n",
       "      <td>Qualifier 2</td>\n",
       "      <td>Royal Challengers Bangalore</td>\n",
       "      <td>Rajasthan Royals</td>\n",
       "      <td>Narendra Modi Stadium, Ahmedabad</td>\n",
       "      <td>Rajasthan Royals</td>\n",
       "      <td>field</td>\n",
       "      <td>N</td>\n",
       "      <td>Rajasthan Royals</td>\n",
       "      <td>Wickets</td>\n",
       "      <td>7.0</td>\n",
       "      <td>NaN</td>\n",
       "      <td>JC Buttler</td>\n",
       "      <td>['V Kohli', 'F du Plessis', 'RM Patidar', 'GJ Maxwell', 'MK Lomror', 'KD Karthik', 'Shahbaz Ahmed', 'PWH de Silva', 'HV Patel', 'JR Hazlewood', 'Mohammed Siraj']</td>\n",
       "      <td>['YBK Jaiswal', 'JC Buttler', 'SV Samson', 'D Padikkal', 'SO Hetmyer', 'R Parag', 'R Ashwin', 'TA Boult', 'YS Chahal', 'M Prasidh Krishna', 'OC McCoy']</td>\n",
       "      <td>CB Gaffaney</td>\n",
       "      <td>Nitin Menon</td>\n",
       "    </tr>\n",
       "    <tr>\n",
       "      <th>2</th>\n",
       "      <td>1312198</td>\n",
       "      <td>Kolkata</td>\n",
       "      <td>2022-05-25</td>\n",
       "      <td>2022</td>\n",
       "      <td>Eliminator</td>\n",
       "      <td>Royal Challengers Bangalore</td>\n",
       "      <td>Lucknow Super Giants</td>\n",
       "      <td>Eden Gardens, Kolkata</td>\n",
       "      <td>Lucknow Super Giants</td>\n",
       "      <td>field</td>\n",
       "      <td>N</td>\n",
       "      <td>Royal Challengers Bangalore</td>\n",
       "      <td>Runs</td>\n",
       "      <td>14.0</td>\n",
       "      <td>NaN</td>\n",
       "      <td>RM Patidar</td>\n",
       "      <td>['V Kohli', 'F du Plessis', 'RM Patidar', 'GJ Maxwell', 'MK Lomror', 'KD Karthik', 'Shahbaz Ahmed', 'HV Patel', 'PWH de Silva', 'JR Hazlewood', 'Mohammed Siraj']</td>\n",
       "      <td>['Q de Kock', 'KL Rahul', 'M Vohra', 'DJ Hooda', 'MP Stoinis', 'E Lewis', 'KH Pandya', 'PVD Chameera', 'Mohsin Khan', 'Avesh Khan', 'Ravi Bishnoi']</td>\n",
       "      <td>J Madanagopal</td>\n",
       "      <td>MA Gough</td>\n",
       "    </tr>\n",
       "    <tr>\n",
       "      <th>3</th>\n",
       "      <td>1312197</td>\n",
       "      <td>Kolkata</td>\n",
       "      <td>2022-05-24</td>\n",
       "      <td>2022</td>\n",
       "      <td>Qualifier 1</td>\n",
       "      <td>Rajasthan Royals</td>\n",
       "      <td>Gujarat Titans</td>\n",
       "      <td>Eden Gardens, Kolkata</td>\n",
       "      <td>Gujarat Titans</td>\n",
       "      <td>field</td>\n",
       "      <td>N</td>\n",
       "      <td>Gujarat Titans</td>\n",
       "      <td>Wickets</td>\n",
       "      <td>7.0</td>\n",
       "      <td>NaN</td>\n",
       "      <td>DA Miller</td>\n",
       "      <td>['YBK Jaiswal', 'JC Buttler', 'SV Samson', 'D Padikkal', 'SO Hetmyer', 'R Parag', 'R Ashwin', 'TA Boult', 'YS Chahal', 'M Prasidh Krishna', 'OC McCoy']</td>\n",
       "      <td>['WP Saha', 'Shubman Gill', 'MS Wade', 'HH Pandya', 'DA Miller', 'R Tewatia', 'Rashid Khan', 'R Sai Kishore', 'AS Joseph', 'Yash Dayal', 'Mohammed Shami']</td>\n",
       "      <td>BNJ Oxenford</td>\n",
       "      <td>VK Sharma</td>\n",
       "    </tr>\n",
       "    <tr>\n",
       "      <th>74</th>\n",
       "      <td>1254117</td>\n",
       "      <td>Dubai</td>\n",
       "      <td>2021-10-15</td>\n",
       "      <td>2021</td>\n",
       "      <td>Final</td>\n",
       "      <td>Chennai Super Kings</td>\n",
       "      <td>Kolkata Knight Riders</td>\n",
       "      <td>Dubai International Cricket Stadium</td>\n",
       "      <td>Kolkata Knight Riders</td>\n",
       "      <td>field</td>\n",
       "      <td>N</td>\n",
       "      <td>Chennai Super Kings</td>\n",
       "      <td>Runs</td>\n",
       "      <td>27.0</td>\n",
       "      <td>NaN</td>\n",
       "      <td>F du Plessis</td>\n",
       "      <td>['RD Gaikwad', 'F du Plessis', 'RV Uthappa', 'MM Ali', 'AT Rayudu', 'MS Dhoni', 'RA Jadeja', 'DJ Bravo', 'SN Thakur', 'DL Chahar', 'JR Hazlewood']</td>\n",
       "      <td>['Shubman Gill', 'VR Iyer', 'N Rana', 'SP Narine', 'EJG Morgan', 'KD Karthik', 'Shakib Al Hasan', 'RA Tripathi', 'LH Ferguson', 'Shivam Mavi', 'CV Varun']</td>\n",
       "      <td>Nitin Menon</td>\n",
       "      <td>RK Illingworth</td>\n",
       "    </tr>\n",
       "  </tbody>\n",
       "</table>\n",
       "</div>"
      ],
      "text/plain": [
       "         ID       City        Date Season  MatchNumber                        Team1                  Team2                                Venue             TossWinner TossDecision SuperOver                  WinningTeam    WonBy  Margin method Player_of_Match                                                                                                                                                       Team1Players                                                                                                                                                  Team2Players        Umpire1         Umpire2\n",
       "0   1312200  Ahmedabad  2022-05-29  2022   Final        Rajasthan Royals             Gujarat Titans         Narendra Modi Stadium, Ahmedabad     Rajasthan Royals       bat          N         Gujarat Titans               Wickets  7.0     NaN    HH Pandya       ['YBK Jaiswal', 'JC Buttler', 'SV Samson', 'D Padikkal', 'SO Hetmyer', 'R Ashwin', 'R Parag', 'TA Boult', 'OC McCoy', 'M Prasidh Krishna', 'YS Chahal']            ['WP Saha', 'Shubman Gill', 'MS Wade', 'HH Pandya', 'DA Miller', 'R Tewatia', 'Rashid Khan', 'R Sai Kishore', 'LH Ferguson', 'Yash Dayal', 'Mohammed Shami']  CB Gaffaney    Nitin Menon   \n",
       "1   1312199  Ahmedabad  2022-05-27  2022   Qualifier 2  Royal Challengers Bangalore  Rajasthan Royals       Narendra Modi Stadium, Ahmedabad     Rajasthan Royals       field        N         Rajasthan Royals             Wickets  7.0     NaN    JC Buttler      ['V Kohli', 'F du Plessis', 'RM Patidar', 'GJ Maxwell', 'MK Lomror', 'KD Karthik', 'Shahbaz Ahmed', 'PWH de Silva', 'HV Patel', 'JR Hazlewood', 'Mohammed Siraj']  ['YBK Jaiswal', 'JC Buttler', 'SV Samson', 'D Padikkal', 'SO Hetmyer', 'R Parag', 'R Ashwin', 'TA Boult', 'YS Chahal', 'M Prasidh Krishna', 'OC McCoy']       CB Gaffaney    Nitin Menon   \n",
       "2   1312198  Kolkata    2022-05-25  2022   Eliminator   Royal Challengers Bangalore  Lucknow Super Giants   Eden Gardens, Kolkata                Lucknow Super Giants   field        N         Royal Challengers Bangalore  Runs     14.0    NaN    RM Patidar      ['V Kohli', 'F du Plessis', 'RM Patidar', 'GJ Maxwell', 'MK Lomror', 'KD Karthik', 'Shahbaz Ahmed', 'HV Patel', 'PWH de Silva', 'JR Hazlewood', 'Mohammed Siraj']  ['Q de Kock', 'KL Rahul', 'M Vohra', 'DJ Hooda', 'MP Stoinis', 'E Lewis', 'KH Pandya', 'PVD Chameera', 'Mohsin Khan', 'Avesh Khan', 'Ravi Bishnoi']           J Madanagopal  MA Gough      \n",
       "3   1312197  Kolkata    2022-05-24  2022   Qualifier 1  Rajasthan Royals             Gujarat Titans         Eden Gardens, Kolkata                Gujarat Titans         field        N         Gujarat Titans               Wickets  7.0     NaN    DA Miller       ['YBK Jaiswal', 'JC Buttler', 'SV Samson', 'D Padikkal', 'SO Hetmyer', 'R Parag', 'R Ashwin', 'TA Boult', 'YS Chahal', 'M Prasidh Krishna', 'OC McCoy']            ['WP Saha', 'Shubman Gill', 'MS Wade', 'HH Pandya', 'DA Miller', 'R Tewatia', 'Rashid Khan', 'R Sai Kishore', 'AS Joseph', 'Yash Dayal', 'Mohammed Shami']    BNJ Oxenford   VK Sharma     \n",
       "74  1254117  Dubai      2021-10-15  2021   Final        Chennai Super Kings          Kolkata Knight Riders  Dubai International Cricket Stadium  Kolkata Knight Riders  field        N         Chennai Super Kings          Runs     27.0    NaN    F du Plessis    ['RD Gaikwad', 'F du Plessis', 'RV Uthappa', 'MM Ali', 'AT Rayudu', 'MS Dhoni', 'RA Jadeja', 'DJ Bravo', 'SN Thakur', 'DL Chahar', 'JR Hazlewood']                 ['Shubman Gill', 'VR Iyer', 'N Rana', 'SP Narine', 'EJG Morgan', 'KD Karthik', 'Shakib Al Hasan', 'RA Tripathi', 'LH Ferguson', 'Shivam Mavi', 'CV Varun']    Nitin Menon    RK Illingworth"
      ]
     },
     "execution_count": 6,
     "metadata": {},
     "output_type": "execute_result"
    }
   ],
   "source": [
    "playoff.head()"
   ]
  },
  {
   "cell_type": "code",
   "execution_count": 7,
   "id": "40d481e8",
   "metadata": {},
   "outputs": [],
   "source": [
    "rcb_playoff = playoff[(playoff['Team1']=='Royal Challengers Bangalore')|(playoff['Team2']=='Royal Challengers Bangalore')]"
   ]
  },
  {
   "cell_type": "code",
   "execution_count": 8,
   "id": "5cfff372",
   "metadata": {},
   "outputs": [],
   "source": [
    "rcb_playoff= rcb_playoff.reset_index()"
   ]
  },
  {
   "cell_type": "code",
   "execution_count": 9,
   "id": "7edbca13",
   "metadata": {},
   "outputs": [
    {
     "data": {
      "text/html": [
       "<div>\n",
       "<style scoped>\n",
       "    .dataframe tbody tr th:only-of-type {\n",
       "        vertical-align: middle;\n",
       "    }\n",
       "\n",
       "    .dataframe tbody tr th {\n",
       "        vertical-align: top;\n",
       "    }\n",
       "\n",
       "    .dataframe thead th {\n",
       "        text-align: right;\n",
       "    }\n",
       "</style>\n",
       "<table border=\"1\" class=\"dataframe\">\n",
       "  <thead>\n",
       "    <tr style=\"text-align: right;\">\n",
       "      <th></th>\n",
       "      <th>index</th>\n",
       "      <th>ID</th>\n",
       "      <th>City</th>\n",
       "      <th>Date</th>\n",
       "      <th>Season</th>\n",
       "      <th>MatchNumber</th>\n",
       "      <th>Team1</th>\n",
       "      <th>Team2</th>\n",
       "      <th>Venue</th>\n",
       "      <th>TossWinner</th>\n",
       "      <th>TossDecision</th>\n",
       "      <th>SuperOver</th>\n",
       "      <th>WinningTeam</th>\n",
       "      <th>WonBy</th>\n",
       "      <th>Margin</th>\n",
       "      <th>method</th>\n",
       "      <th>Player_of_Match</th>\n",
       "      <th>Team1Players</th>\n",
       "      <th>Team2Players</th>\n",
       "      <th>Umpire1</th>\n",
       "      <th>Umpire2</th>\n",
       "    </tr>\n",
       "  </thead>\n",
       "  <tbody>\n",
       "    <tr>\n",
       "      <th>0</th>\n",
       "      <td>1</td>\n",
       "      <td>1312199</td>\n",
       "      <td>Ahmedabad</td>\n",
       "      <td>2022-05-27</td>\n",
       "      <td>2022</td>\n",
       "      <td>Qualifier 2</td>\n",
       "      <td>Royal Challengers Bangalore</td>\n",
       "      <td>Rajasthan Royals</td>\n",
       "      <td>Narendra Modi Stadium, Ahmedabad</td>\n",
       "      <td>Rajasthan Royals</td>\n",
       "      <td>field</td>\n",
       "      <td>N</td>\n",
       "      <td>Rajasthan Royals</td>\n",
       "      <td>Wickets</td>\n",
       "      <td>7.0</td>\n",
       "      <td>NaN</td>\n",
       "      <td>JC Buttler</td>\n",
       "      <td>['V Kohli', 'F du Plessis', 'RM Patidar', 'GJ Maxwell', 'MK Lomror', 'KD Karthik', 'Shahbaz Ahmed', 'PWH de Silva', 'HV Patel', 'JR Hazlewood', 'Mohammed Siraj']</td>\n",
       "      <td>['YBK Jaiswal', 'JC Buttler', 'SV Samson', 'D Padikkal', 'SO Hetmyer', 'R Parag', 'R Ashwin', 'TA Boult', 'YS Chahal', 'M Prasidh Krishna', 'OC McCoy']</td>\n",
       "      <td>CB Gaffaney</td>\n",
       "      <td>Nitin Menon</td>\n",
       "    </tr>\n",
       "  </tbody>\n",
       "</table>\n",
       "</div>"
      ],
      "text/plain": [
       "   index       ID       City        Date Season  MatchNumber                        Team1             Team2                             Venue        TossWinner TossDecision SuperOver       WinningTeam    WonBy  Margin method Player_of_Match                                                                                                                                                       Team1Players                                                                                                                                             Team2Players      Umpire1      Umpire2\n",
       "0  1      1312199  Ahmedabad  2022-05-27  2022   Qualifier 2  Royal Challengers Bangalore  Rajasthan Royals  Narendra Modi Stadium, Ahmedabad  Rajasthan Royals  field        N         Rajasthan Royals  Wickets  7.0     NaN    JC Buttler      ['V Kohli', 'F du Plessis', 'RM Patidar', 'GJ Maxwell', 'MK Lomror', 'KD Karthik', 'Shahbaz Ahmed', 'PWH de Silva', 'HV Patel', 'JR Hazlewood', 'Mohammed Siraj']  ['YBK Jaiswal', 'JC Buttler', 'SV Samson', 'D Padikkal', 'SO Hetmyer', 'R Parag', 'R Ashwin', 'TA Boult', 'YS Chahal', 'M Prasidh Krishna', 'OC McCoy']  CB Gaffaney  Nitin Menon"
      ]
     },
     "execution_count": 9,
     "metadata": {},
     "output_type": "execute_result"
    }
   ],
   "source": [
    "rcb_playoff.head(1)"
   ]
  },
  {
   "cell_type": "code",
   "execution_count": 10,
   "id": "cf0f2bb7",
   "metadata": {},
   "outputs": [],
   "source": [
    "rcb_playoff['Toss']=rcb_playoff['TossWinner'].apply(lambda x:1 if x =='Royal Challengers Bangalore' else 0)"
   ]
  },
  {
   "cell_type": "code",
   "execution_count": 11,
   "id": "f5eff2ff",
   "metadata": {},
   "outputs": [
    {
     "data": {
      "text/plain": [
       "14"
      ]
     },
     "execution_count": 11,
     "metadata": {},
     "output_type": "execute_result"
    }
   ],
   "source": [
    "len(rcb_playoff)"
   ]
  },
  {
   "cell_type": "code",
   "execution_count": 12,
   "id": "250f38b5",
   "metadata": {},
   "outputs": [],
   "source": [
    "rcb_playoff_win = rcb_playoff[(rcb_playoff['WinningTeam']=='Royal Challengers Bangalore')]"
   ]
  },
  {
   "cell_type": "code",
   "execution_count": 13,
   "id": "0c15ec02",
   "metadata": {},
   "outputs": [
    {
     "data": {
      "text/plain": [
       "5"
      ]
     },
     "execution_count": 13,
     "metadata": {},
     "output_type": "execute_result"
    }
   ],
   "source": [
    "len(rcb_playoff_win)"
   ]
  },
  {
   "cell_type": "code",
   "execution_count": 14,
   "id": "88b248fa",
   "metadata": {},
   "outputs": [],
   "source": [
    "rcb_playoff_win_toss = rcb_playoff[(rcb_playoff['Toss']==1)]"
   ]
  },
  {
   "cell_type": "code",
   "execution_count": 15,
   "id": "77ab97ac",
   "metadata": {},
   "outputs": [
    {
     "data": {
      "text/plain": [
       "5"
      ]
     },
     "execution_count": 15,
     "metadata": {},
     "output_type": "execute_result"
    }
   ],
   "source": [
    "len(rcb_playoff_win_toss)"
   ]
  },
  {
   "cell_type": "code",
   "execution_count": 16,
   "id": "93a5b8b2",
   "metadata": {},
   "outputs": [],
   "source": [
    "rcb_playoff_win_tossandmatch = rcb_playoff[(rcb_playoff['WinningTeam']=='Royal Challengers Bangalore')&(rcb_playoff['Toss']==1)]"
   ]
  },
  {
   "cell_type": "code",
   "execution_count": 17,
   "id": "51caeb98",
   "metadata": {},
   "outputs": [
    {
     "data": {
      "text/plain": [
       "3"
      ]
     },
     "execution_count": 17,
     "metadata": {},
     "output_type": "execute_result"
    }
   ],
   "source": [
    "len(rcb_playoff_win_tossandmatch)"
   ]
  },
  {
   "cell_type": "code",
   "execution_count": 18,
   "id": "c6240cbd",
   "metadata": {},
   "outputs": [
    {
     "data": {
      "text/plain": [
       "60.0"
      ]
     },
     "execution_count": 18,
     "metadata": {},
     "output_type": "execute_result"
    }
   ],
   "source": [
    "rcb_playoff_winpercentage_whentosswins = len(rcb_playoff_win_tossandmatch)/len(rcb_playoff_win_toss)*100\n",
    "rcb_playoff_winpercentage_whentosswins"
   ]
  },
  {
   "cell_type": "code",
   "execution_count": 19,
   "id": "3b6a8659",
   "metadata": {},
   "outputs": [
    {
     "data": {
      "text/plain": [
       "9"
      ]
     },
     "execution_count": 19,
     "metadata": {},
     "output_type": "execute_result"
    }
   ],
   "source": [
    "rcb_playoff_lose_toss = len(rcb_playoff)-len(rcb_playoff_win_toss)\n",
    "rcb_playoff_lose_toss"
   ]
  },
  {
   "cell_type": "code",
   "execution_count": 20,
   "id": "1ef005a7",
   "metadata": {},
   "outputs": [
    {
     "data": {
      "text/plain": [
       "2"
      ]
     },
     "execution_count": 20,
     "metadata": {},
     "output_type": "execute_result"
    }
   ],
   "source": [
    "rcb_playoff_winmatch_losetoss = len(rcb_playoff_win)-len(rcb_playoff_win_tossandmatch)\n",
    "rcb_playoff_winmatch_losetoss"
   ]
  },
  {
   "cell_type": "code",
   "execution_count": 21,
   "id": "7d0c9249",
   "metadata": {},
   "outputs": [
    {
     "data": {
      "text/plain": [
       "22.22222222222222"
      ]
     },
     "execution_count": 21,
     "metadata": {},
     "output_type": "execute_result"
    }
   ],
   "source": [
    "rcb_playoff_winpercentage_whentosslose = rcb_playoff_winmatch_losetoss/rcb_playoff_lose_toss*100\n",
    "rcb_playoff_winpercentage_whentosslose"
   ]
  },
  {
   "cell_type": "code",
   "execution_count": 22,
   "id": "18d674db",
   "metadata": {},
   "outputs": [],
   "source": [
    "#2008-2021\n",
    "df = pd.read_csv('IPL_ball_by_ball_updated.csv')"
   ]
  },
  {
   "cell_type": "code",
   "execution_count": 23,
   "id": "bbec4707",
   "metadata": {},
   "outputs": [
    {
     "data": {
      "text/html": [
       "<div>\n",
       "<style scoped>\n",
       "    .dataframe tbody tr th:only-of-type {\n",
       "        vertical-align: middle;\n",
       "    }\n",
       "\n",
       "    .dataframe tbody tr th {\n",
       "        vertical-align: top;\n",
       "    }\n",
       "\n",
       "    .dataframe thead th {\n",
       "        text-align: right;\n",
       "    }\n",
       "</style>\n",
       "<table border=\"1\" class=\"dataframe\">\n",
       "  <thead>\n",
       "    <tr style=\"text-align: right;\">\n",
       "      <th></th>\n",
       "      <th>match_id</th>\n",
       "      <th>season</th>\n",
       "      <th>start_date</th>\n",
       "      <th>venue</th>\n",
       "      <th>innings</th>\n",
       "      <th>ball</th>\n",
       "      <th>batting_team</th>\n",
       "      <th>bowling_team</th>\n",
       "      <th>striker</th>\n",
       "      <th>non_striker</th>\n",
       "      <th>bowler</th>\n",
       "      <th>runs_off_bat</th>\n",
       "      <th>extras</th>\n",
       "      <th>wides</th>\n",
       "      <th>noballs</th>\n",
       "      <th>byes</th>\n",
       "      <th>legbyes</th>\n",
       "      <th>penalty</th>\n",
       "      <th>wicket_type</th>\n",
       "      <th>player_dismissed</th>\n",
       "      <th>other_wicket_type</th>\n",
       "      <th>other_player_dismissed</th>\n",
       "    </tr>\n",
       "  </thead>\n",
       "  <tbody>\n",
       "    <tr>\n",
       "      <th>208036</th>\n",
       "      <td>1254117</td>\n",
       "      <td>2021</td>\n",
       "      <td>2021-10-15</td>\n",
       "      <td>Dubai International Cricket Stadium</td>\n",
       "      <td>1</td>\n",
       "      <td>14.4</td>\n",
       "      <td>Chennai Super Kings</td>\n",
       "      <td>Kolkata Knight Riders</td>\n",
       "      <td>MM Ali</td>\n",
       "      <td>F du Plessis</td>\n",
       "      <td>VR Iyer</td>\n",
       "      <td>0</td>\n",
       "      <td>1</td>\n",
       "      <td>NaN</td>\n",
       "      <td>NaN</td>\n",
       "      <td>NaN</td>\n",
       "      <td>1.0</td>\n",
       "      <td>NaN</td>\n",
       "      <td>NaN</td>\n",
       "      <td>NaN</td>\n",
       "      <td>NaN</td>\n",
       "      <td>NaN</td>\n",
       "    </tr>\n",
       "    <tr>\n",
       "      <th>208037</th>\n",
       "      <td>1254117</td>\n",
       "      <td>2021</td>\n",
       "      <td>2021-10-15</td>\n",
       "      <td>Dubai International Cricket Stadium</td>\n",
       "      <td>1</td>\n",
       "      <td>14.5</td>\n",
       "      <td>Chennai Super Kings</td>\n",
       "      <td>Kolkata Knight Riders</td>\n",
       "      <td>F du Plessis</td>\n",
       "      <td>MM Ali</td>\n",
       "      <td>VR Iyer</td>\n",
       "      <td>2</td>\n",
       "      <td>0</td>\n",
       "      <td>NaN</td>\n",
       "      <td>NaN</td>\n",
       "      <td>NaN</td>\n",
       "      <td>NaN</td>\n",
       "      <td>NaN</td>\n",
       "      <td>NaN</td>\n",
       "      <td>NaN</td>\n",
       "      <td>NaN</td>\n",
       "      <td>NaN</td>\n",
       "    </tr>\n",
       "    <tr>\n",
       "      <th>208038</th>\n",
       "      <td>1254117</td>\n",
       "      <td>2021</td>\n",
       "      <td>2021-10-15</td>\n",
       "      <td>Dubai International Cricket Stadium</td>\n",
       "      <td>1</td>\n",
       "      <td>14.6</td>\n",
       "      <td>Chennai Super Kings</td>\n",
       "      <td>Kolkata Knight Riders</td>\n",
       "      <td>F du Plessis</td>\n",
       "      <td>MM Ali</td>\n",
       "      <td>VR Iyer</td>\n",
       "      <td>1</td>\n",
       "      <td>0</td>\n",
       "      <td>NaN</td>\n",
       "      <td>NaN</td>\n",
       "      <td>NaN</td>\n",
       "      <td>NaN</td>\n",
       "      <td>NaN</td>\n",
       "      <td>NaN</td>\n",
       "      <td>NaN</td>\n",
       "      <td>NaN</td>\n",
       "      <td>NaN</td>\n",
       "    </tr>\n",
       "    <tr>\n",
       "      <th>208039</th>\n",
       "      <td>1254117</td>\n",
       "      <td>2021</td>\n",
       "      <td>2021-10-15</td>\n",
       "      <td>Dubai International Cricket Stadium</td>\n",
       "      <td>1</td>\n",
       "      <td>12.6</td>\n",
       "      <td>Chennai Super Kings</td>\n",
       "      <td>Kolkata Knight Riders</td>\n",
       "      <td>RV Uthappa</td>\n",
       "      <td>F du Plessis</td>\n",
       "      <td>CV Varun</td>\n",
       "      <td>2</td>\n",
       "      <td>0</td>\n",
       "      <td>NaN</td>\n",
       "      <td>NaN</td>\n",
       "      <td>NaN</td>\n",
       "      <td>NaN</td>\n",
       "      <td>NaN</td>\n",
       "      <td>NaN</td>\n",
       "      <td>NaN</td>\n",
       "      <td>NaN</td>\n",
       "      <td>NaN</td>\n",
       "    </tr>\n",
       "    <tr>\n",
       "      <th>208040</th>\n",
       "      <td>1254117</td>\n",
       "      <td>2021</td>\n",
       "      <td>2021-10-15</td>\n",
       "      <td>Dubai International Cricket Stadium</td>\n",
       "      <td>2</td>\n",
       "      <td>19.6</td>\n",
       "      <td>Kolkata Knight Riders</td>\n",
       "      <td>Chennai Super Kings</td>\n",
       "      <td>LH Ferguson</td>\n",
       "      <td>CV Varun</td>\n",
       "      <td>DJ Bravo</td>\n",
       "      <td>1</td>\n",
       "      <td>0</td>\n",
       "      <td>NaN</td>\n",
       "      <td>NaN</td>\n",
       "      <td>NaN</td>\n",
       "      <td>NaN</td>\n",
       "      <td>NaN</td>\n",
       "      <td>NaN</td>\n",
       "      <td>NaN</td>\n",
       "      <td>NaN</td>\n",
       "      <td>NaN</td>\n",
       "    </tr>\n",
       "  </tbody>\n",
       "</table>\n",
       "</div>"
      ],
      "text/plain": [
       "        match_id  season  start_date                                venue  innings  ball           batting_team           bowling_team       striker   non_striker    bowler  runs_off_bat  extras  wides  noballs  byes  legbyes  penalty wicket_type player_dismissed  other_wicket_type  other_player_dismissed\n",
       "208036  1254117   2021    2021-10-15  Dubai International Cricket Stadium  1        14.4  Chennai Super Kings    Kolkata Knight Riders  MM Ali        F du Plessis  VR Iyer   0             1      NaN    NaN      NaN    1.0     NaN       NaN         NaN             NaN                NaN                    \n",
       "208037  1254117   2021    2021-10-15  Dubai International Cricket Stadium  1        14.5  Chennai Super Kings    Kolkata Knight Riders  F du Plessis  MM Ali        VR Iyer   2             0      NaN    NaN      NaN   NaN      NaN       NaN         NaN             NaN                NaN                    \n",
       "208038  1254117   2021    2021-10-15  Dubai International Cricket Stadium  1        14.6  Chennai Super Kings    Kolkata Knight Riders  F du Plessis  MM Ali        VR Iyer   1             0      NaN    NaN      NaN   NaN      NaN       NaN         NaN             NaN                NaN                    \n",
       "208039  1254117   2021    2021-10-15  Dubai International Cricket Stadium  1        12.6  Chennai Super Kings    Kolkata Knight Riders  RV Uthappa    F du Plessis  CV Varun  2             0      NaN    NaN      NaN   NaN      NaN       NaN         NaN             NaN                NaN                    \n",
       "208040  1254117   2021    2021-10-15  Dubai International Cricket Stadium  2        19.6  Kolkata Knight Riders  Chennai Super Kings    LH Ferguson   CV Varun      DJ Bravo  1             0      NaN    NaN      NaN   NaN      NaN       NaN         NaN             NaN                NaN                    "
      ]
     },
     "execution_count": 23,
     "metadata": {},
     "output_type": "execute_result"
    }
   ],
   "source": [
    "df.tail()"
   ]
  },
  {
   "cell_type": "code",
   "execution_count": 24,
   "id": "4cbbae2f",
   "metadata": {},
   "outputs": [
    {
     "data": {
      "text/plain": [
       "208041"
      ]
     },
     "execution_count": 24,
     "metadata": {},
     "output_type": "execute_result"
    }
   ],
   "source": [
    "len(df)"
   ]
  },
  {
   "cell_type": "code",
   "execution_count": 25,
   "id": "67a93e09",
   "metadata": {},
   "outputs": [],
   "source": [
    "rcb_df = df[(df['start_date']=='2009-05-23')|(df['start_date']=='2009-05-24')|(df['start_date']=='2010-04-21')|(df['start_date']=='2011-05-24')|(df['start_date']=='2011-05-27')|(df['start_date']=='2011-05-28')|(df['start_date']=='2015-05-20')|(df['start_date']=='2016-05-24')|(df['start_date']=='2016-05-29')|(df['start_date']=='2020-11-26')|(df['start_date']=='2021-10-11')|(df['start_date']=='2022-05-25')|(df['start_date']=='2022-05-27')]"
   ]
  },
  {
   "cell_type": "code",
   "execution_count": 26,
   "id": "f3c5a4c1",
   "metadata": {},
   "outputs": [
    {
     "data": {
      "text/plain": [
       "2463"
      ]
     },
     "execution_count": 26,
     "metadata": {},
     "output_type": "execute_result"
    }
   ],
   "source": [
    "len(rcb_df)"
   ]
  },
  {
   "cell_type": "code",
   "execution_count": 27,
   "id": "5a92f362",
   "metadata": {},
   "outputs": [
    {
     "data": {
      "text/html": [
       "<div>\n",
       "<style scoped>\n",
       "    .dataframe tbody tr th:only-of-type {\n",
       "        vertical-align: middle;\n",
       "    }\n",
       "\n",
       "    .dataframe tbody tr th {\n",
       "        vertical-align: top;\n",
       "    }\n",
       "\n",
       "    .dataframe thead th {\n",
       "        text-align: right;\n",
       "    }\n",
       "</style>\n",
       "<table border=\"1\" class=\"dataframe\">\n",
       "  <thead>\n",
       "    <tr style=\"text-align: right;\">\n",
       "      <th></th>\n",
       "      <th>match_id</th>\n",
       "      <th>season</th>\n",
       "      <th>start_date</th>\n",
       "      <th>venue</th>\n",
       "      <th>innings</th>\n",
       "      <th>ball</th>\n",
       "      <th>batting_team</th>\n",
       "      <th>bowling_team</th>\n",
       "      <th>striker</th>\n",
       "      <th>non_striker</th>\n",
       "      <th>bowler</th>\n",
       "      <th>runs_off_bat</th>\n",
       "      <th>extras</th>\n",
       "      <th>wides</th>\n",
       "      <th>noballs</th>\n",
       "      <th>byes</th>\n",
       "      <th>legbyes</th>\n",
       "      <th>penalty</th>\n",
       "      <th>wicket_type</th>\n",
       "      <th>player_dismissed</th>\n",
       "      <th>other_wicket_type</th>\n",
       "      <th>other_player_dismissed</th>\n",
       "    </tr>\n",
       "  </thead>\n",
       "  <tbody>\n",
       "    <tr>\n",
       "      <th>26610</th>\n",
       "      <td>392238</td>\n",
       "      <td>2009</td>\n",
       "      <td>2009-05-23</td>\n",
       "      <td>New Wanderers Stadium</td>\n",
       "      <td>2</td>\n",
       "      <td>5.4</td>\n",
       "      <td>Royal Challengers Bangalore</td>\n",
       "      <td>Chennai Super Kings</td>\n",
       "      <td>R Dravid</td>\n",
       "      <td>MK Pandey</td>\n",
       "      <td>JA Morkel</td>\n",
       "      <td>4</td>\n",
       "      <td>0</td>\n",
       "      <td>NaN</td>\n",
       "      <td>NaN</td>\n",
       "      <td>NaN</td>\n",
       "      <td>NaN</td>\n",
       "      <td>NaN</td>\n",
       "      <td>NaN</td>\n",
       "      <td>NaN</td>\n",
       "      <td>NaN</td>\n",
       "      <td>NaN</td>\n",
       "    </tr>\n",
       "  </tbody>\n",
       "</table>\n",
       "</div>"
      ],
      "text/plain": [
       "       match_id  season  start_date                  venue  innings  ball                 batting_team         bowling_team   striker non_striker     bowler  runs_off_bat  extras  wides  noballs  byes  legbyes  penalty wicket_type player_dismissed  other_wicket_type  other_player_dismissed\n",
       "26610  392238    2009    2009-05-23  New Wanderers Stadium  2        5.4   Royal Challengers Bangalore  Chennai Super Kings  R Dravid  MK Pandey   JA Morkel  4             0      NaN    NaN      NaN   NaN      NaN       NaN         NaN             NaN                NaN                    "
      ]
     },
     "execution_count": 27,
     "metadata": {},
     "output_type": "execute_result"
    }
   ],
   "source": [
    "rcb_df.head(1)"
   ]
  },
  {
   "cell_type": "code",
   "execution_count": 28,
   "id": "16b00668",
   "metadata": {},
   "outputs": [],
   "source": [
    "rcb_df['Over']=rcb_df['ball'].apply(lambda x:int(x)+1)"
   ]
  },
  {
   "cell_type": "code",
   "execution_count": 29,
   "id": "83a82f86",
   "metadata": {},
   "outputs": [
    {
     "data": {
      "text/html": [
       "<div>\n",
       "<style scoped>\n",
       "    .dataframe tbody tr th:only-of-type {\n",
       "        vertical-align: middle;\n",
       "    }\n",
       "\n",
       "    .dataframe tbody tr th {\n",
       "        vertical-align: top;\n",
       "    }\n",
       "\n",
       "    .dataframe thead th {\n",
       "        text-align: right;\n",
       "    }\n",
       "</style>\n",
       "<table border=\"1\" class=\"dataframe\">\n",
       "  <thead>\n",
       "    <tr style=\"text-align: right;\">\n",
       "      <th></th>\n",
       "      <th>match_id</th>\n",
       "      <th>season</th>\n",
       "      <th>start_date</th>\n",
       "      <th>venue</th>\n",
       "      <th>innings</th>\n",
       "      <th>ball</th>\n",
       "      <th>batting_team</th>\n",
       "      <th>bowling_team</th>\n",
       "      <th>striker</th>\n",
       "      <th>non_striker</th>\n",
       "      <th>bowler</th>\n",
       "      <th>runs_off_bat</th>\n",
       "      <th>extras</th>\n",
       "      <th>wides</th>\n",
       "      <th>noballs</th>\n",
       "      <th>byes</th>\n",
       "      <th>legbyes</th>\n",
       "      <th>penalty</th>\n",
       "      <th>wicket_type</th>\n",
       "      <th>player_dismissed</th>\n",
       "      <th>other_wicket_type</th>\n",
       "      <th>other_player_dismissed</th>\n",
       "      <th>Over</th>\n",
       "    </tr>\n",
       "  </thead>\n",
       "  <tbody>\n",
       "    <tr>\n",
       "      <th>26610</th>\n",
       "      <td>392238</td>\n",
       "      <td>2009</td>\n",
       "      <td>2009-05-23</td>\n",
       "      <td>New Wanderers Stadium</td>\n",
       "      <td>2</td>\n",
       "      <td>5.4</td>\n",
       "      <td>Royal Challengers Bangalore</td>\n",
       "      <td>Chennai Super Kings</td>\n",
       "      <td>R Dravid</td>\n",
       "      <td>MK Pandey</td>\n",
       "      <td>JA Morkel</td>\n",
       "      <td>4</td>\n",
       "      <td>0</td>\n",
       "      <td>NaN</td>\n",
       "      <td>NaN</td>\n",
       "      <td>NaN</td>\n",
       "      <td>NaN</td>\n",
       "      <td>NaN</td>\n",
       "      <td>NaN</td>\n",
       "      <td>NaN</td>\n",
       "      <td>NaN</td>\n",
       "      <td>NaN</td>\n",
       "      <td>6</td>\n",
       "    </tr>\n",
       "  </tbody>\n",
       "</table>\n",
       "</div>"
      ],
      "text/plain": [
       "       match_id  season  start_date                  venue  innings  ball                 batting_team         bowling_team   striker non_striker     bowler  runs_off_bat  extras  wides  noballs  byes  legbyes  penalty wicket_type player_dismissed  other_wicket_type  other_player_dismissed  Over\n",
       "26610  392238    2009    2009-05-23  New Wanderers Stadium  2        5.4   Royal Challengers Bangalore  Chennai Super Kings  R Dravid  MK Pandey   JA Morkel  4             0      NaN    NaN      NaN   NaN      NaN       NaN         NaN             NaN                NaN                      6   "
      ]
     },
     "execution_count": 29,
     "metadata": {},
     "output_type": "execute_result"
    }
   ],
   "source": [
    "rcb_df.head(1)"
   ]
  },
  {
   "cell_type": "code",
   "execution_count": 30,
   "id": "2fbbe9bf",
   "metadata": {},
   "outputs": [],
   "source": [
    "rcb_df['Field Restrictions']= rcb_df['Over'].apply(lambda x:'Power Play' if x<=6 else ('Final 5 Overs' if x>15 and x<=20 else 'Middle Overs' ) )"
   ]
  },
  {
   "cell_type": "code",
   "execution_count": 31,
   "id": "5e184163",
   "metadata": {},
   "outputs": [
    {
     "data": {
      "text/plain": [
       "array(['Power Play', 'Middle Overs', 'Final 5 Overs'], dtype=object)"
      ]
     },
     "execution_count": 31,
     "metadata": {},
     "output_type": "execute_result"
    }
   ],
   "source": [
    "rcb_df['Field Restrictions'].unique()"
   ]
  },
  {
   "cell_type": "code",
   "execution_count": 32,
   "id": "2a141f3c",
   "metadata": {},
   "outputs": [],
   "source": [
    "rcb_batting = rcb_df[rcb_df['batting_team']=='Royal Challengers Bangalore']"
   ]
  },
  {
   "cell_type": "code",
   "execution_count": null,
   "id": "62f39d9f",
   "metadata": {},
   "outputs": [],
   "source": []
  },
  {
   "cell_type": "code",
   "execution_count": 33,
   "id": "a144675b",
   "metadata": {},
   "outputs": [
    {
     "data": {
      "text/plain": [
       "Field Restrictions\n",
       "Final 5 Overs    390\n",
       "Middle Overs     683\n",
       "Power Play       437\n",
       "Name: runs_off_bat, dtype: int64"
      ]
     },
     "execution_count": 33,
     "metadata": {},
     "output_type": "execute_result"
    }
   ],
   "source": [
    "rcb_batting.groupby('Field Restrictions')['runs_off_bat'].sum()"
   ]
  },
  {
   "cell_type": "code",
   "execution_count": 34,
   "id": "071230ba",
   "metadata": {},
   "outputs": [
    {
     "data": {
      "text/html": [
       "<div>\n",
       "<style scoped>\n",
       "    .dataframe tbody tr th:only-of-type {\n",
       "        vertical-align: middle;\n",
       "    }\n",
       "\n",
       "    .dataframe tbody tr th {\n",
       "        vertical-align: top;\n",
       "    }\n",
       "\n",
       "    .dataframe thead th {\n",
       "        text-align: right;\n",
       "    }\n",
       "</style>\n",
       "<table border=\"1\" class=\"dataframe\">\n",
       "  <thead>\n",
       "    <tr style=\"text-align: right;\">\n",
       "      <th></th>\n",
       "      <th>player_dismissed</th>\n",
       "      <th>other_player_dismissed</th>\n",
       "    </tr>\n",
       "    <tr>\n",
       "      <th>Field Restrictions</th>\n",
       "      <th></th>\n",
       "      <th></th>\n",
       "    </tr>\n",
       "  </thead>\n",
       "  <tbody>\n",
       "    <tr>\n",
       "      <th>Final 5 Overs</th>\n",
       "      <td>19</td>\n",
       "      <td>0</td>\n",
       "    </tr>\n",
       "    <tr>\n",
       "      <th>Middle Overs</th>\n",
       "      <td>29</td>\n",
       "      <td>0</td>\n",
       "    </tr>\n",
       "    <tr>\n",
       "      <th>Power Play</th>\n",
       "      <td>14</td>\n",
       "      <td>0</td>\n",
       "    </tr>\n",
       "  </tbody>\n",
       "</table>\n",
       "</div>"
      ],
      "text/plain": [
       "                    player_dismissed  other_player_dismissed\n",
       "Field Restrictions                                          \n",
       "Final 5 Overs       19                0                     \n",
       "Middle Overs        29                0                     \n",
       "Power Play          14                0                     "
      ]
     },
     "execution_count": 34,
     "metadata": {},
     "output_type": "execute_result"
    }
   ],
   "source": [
    "rcb_batting.groupby('Field Restrictions')['player_dismissed','other_player_dismissed'].count()"
   ]
  },
  {
   "cell_type": "code",
   "execution_count": 35,
   "id": "3ac427c0",
   "metadata": {},
   "outputs": [],
   "source": [
    "rcb_won_batting_stats= rcb_batting[(rcb_batting['start_date']=='2009-05-23')|(rcb_batting['start_date']=='2011-05-27')|(rcb_batting['start_date']=='2015-05-20')|(rcb_batting['start_date']=='2016-05-24')|(rcb_batting['start_date']=='2022-05-25')]"
   ]
  },
  {
   "cell_type": "code",
   "execution_count": 36,
   "id": "2ca21bfd",
   "metadata": {},
   "outputs": [
    {
     "data": {
      "text/plain": [
       "Field Restrictions\n",
       "Final 5 Overs    44.25\n",
       "Middle Overs     68.25\n",
       "Power Play       44.00\n",
       "Name: runs_off_bat, dtype: float64"
      ]
     },
     "execution_count": 36,
     "metadata": {},
     "output_type": "execute_result"
    }
   ],
   "source": [
    "#number of watches RCB won in playoffs from 2008-2021 = 4\n",
    "# average runs per segment in winning playoff match\n",
    "rcb_won_batting_stats.groupby('Field Restrictions')['runs_off_bat'].sum()/4"
   ]
  },
  {
   "cell_type": "code",
   "execution_count": 37,
   "id": "3de6c71f",
   "metadata": {},
   "outputs": [
    {
     "data": {
      "text/plain": [
       "<AxesSubplot:xlabel='Field Restrictions'>"
      ]
     },
     "execution_count": 37,
     "metadata": {},
     "output_type": "execute_result"
    },
    {
     "data": {
      "image/png": "[encoded data removed]",
      "text/plain": [
       "<Figure size 432x288 with 1 Axes>"
      ]
     },
     "metadata": {
      "needs_background": "light"
     },
     "output_type": "display_data"
    }
   ],
   "source": [
    "(rcb_won_batting_stats.groupby('Field Restrictions')['player_dismissed','other_player_dismissed'].count()/4).plot(kind='bar')"
   ]
  },
  {
   "cell_type": "code",
   "execution_count": 38,
   "id": "fbfe461a",
   "metadata": {},
   "outputs": [],
   "source": [
    "rcb_loss_batting_stats = rcb_batting[(rcb_batting['start_date']=='2009-05-24')|(rcb_batting['start_date']=='2010-04-21')|(rcb_batting['start_date']=='2011-05-24')|(rcb_batting['start_date']=='2011-05-28')|(rcb_batting['start_date']=='2015-05-22')|(rcb_batting['start_date']=='2016-05-29')|(rcb_batting['start_date']=='2020-11-06')|(rcb_batting['start_date']=='2021-10-11')|(rcb_batting['start_date']=='2022-05-27')]"
   ]
  },
  {
   "cell_type": "code",
   "execution_count": 39,
   "id": "d7f27b4d",
   "metadata": {},
   "outputs": [
    {
     "data": {
      "text/plain": [
       "<AxesSubplot:xlabel='Field Restrictions'>"
      ]
     },
     "execution_count": 39,
     "metadata": {},
     "output_type": "execute_result"
    },
    {
     "data": {
      "image/png": "[encoded data removed]",
      "text/plain": [
       "<Figure size 432x288 with 1 Axes>"
      ]
     },
     "metadata": {
      "needs_background": "light"
     },
     "output_type": "display_data"
    }
   ],
   "source": [
    "#number of watches RCB lose in playoffs from 2008-2021 = 8\n",
    "# average runs per segment in winning playoff match\n",
    "(rcb_loss_batting_stats.groupby('Field Restrictions')['runs_off_bat'].sum()/8).plot(kind='bar')"
   ]
  },
  {
   "cell_type": "code",
   "execution_count": 40,
   "id": "2ca483a6",
   "metadata": {},
   "outputs": [
    {
     "data": {
      "text/plain": [
       "<AxesSubplot:xlabel='Field Restrictions'>"
      ]
     },
     "execution_count": 40,
     "metadata": {},
     "output_type": "execute_result"
    },
    {
     "data": {
      "image/png": "[encoded data removed]",
      "text/plain": [
       "<Figure size 432x288 with 1 Axes>"
      ]
     },
     "metadata": {
      "needs_background": "light"
     },
     "output_type": "display_data"
    }
   ],
   "source": [
    "(rcb_loss_batting_stats.groupby('Field Restrictions')['player_dismissed','other_player_dismissed'].count()/8).plot(kind='bar')"
   ]
  },
  {
   "cell_type": "code",
   "execution_count": 41,
   "id": "cdd97e97",
   "metadata": {},
   "outputs": [
    {
     "data": {
      "text/plain": [
       "<AxesSubplot:xlabel='Field Restrictions'>"
      ]
     },
     "execution_count": 41,
     "metadata": {},
     "output_type": "execute_result"
    },
    {
     "data": {
      "image/png": "[encoded data removed]",
      "text/plain": [
       "<Figure size 432x288 with 1 Axes>"
      ]
     },
     "metadata": {
      "needs_background": "light"
     },
     "output_type": "display_data"
    }
   ],
   "source": [
    "#number of watches RCB played in playoffs from 2008-2021 = 12\n",
    "# average runs per segment in winning playoff match\n",
    "(rcb_batting.groupby('Field Restrictions')['runs_off_bat'].sum()/12).plot(kind='bar')"
   ]
  },
  {
   "cell_type": "code",
   "execution_count": 42,
   "id": "8cc1c1c6",
   "metadata": {},
   "outputs": [
    {
     "data": {
      "text/html": [
       "<div>\n",
       "<style scoped>\n",
       "    .dataframe tbody tr th:only-of-type {\n",
       "        vertical-align: middle;\n",
       "    }\n",
       "\n",
       "    .dataframe tbody tr th {\n",
       "        vertical-align: top;\n",
       "    }\n",
       "\n",
       "    .dataframe thead th {\n",
       "        text-align: right;\n",
       "    }\n",
       "</style>\n",
       "<table border=\"1\" class=\"dataframe\">\n",
       "  <thead>\n",
       "    <tr style=\"text-align: right;\">\n",
       "      <th></th>\n",
       "      <th>player_dismissed</th>\n",
       "      <th>other_player_dismissed</th>\n",
       "    </tr>\n",
       "    <tr>\n",
       "      <th>Field Restrictions</th>\n",
       "      <th></th>\n",
       "      <th></th>\n",
       "    </tr>\n",
       "  </thead>\n",
       "  <tbody>\n",
       "    <tr>\n",
       "      <th>Final 5 Overs</th>\n",
       "      <td>1.583333</td>\n",
       "      <td>0.0</td>\n",
       "    </tr>\n",
       "    <tr>\n",
       "      <th>Middle Overs</th>\n",
       "      <td>2.416667</td>\n",
       "      <td>0.0</td>\n",
       "    </tr>\n",
       "    <tr>\n",
       "      <th>Power Play</th>\n",
       "      <td>1.166667</td>\n",
       "      <td>0.0</td>\n",
       "    </tr>\n",
       "  </tbody>\n",
       "</table>\n",
       "</div>"
      ],
      "text/plain": [
       "                    player_dismissed  other_player_dismissed\n",
       "Field Restrictions                                          \n",
       "Final 5 Overs       1.583333          0.0                   \n",
       "Middle Overs        2.416667          0.0                   \n",
       "Power Play          1.166667          0.0                   "
      ]
     },
     "execution_count": 42,
     "metadata": {},
     "output_type": "execute_result"
    }
   ],
   "source": [
    "rcb_batting.groupby('Field Restrictions')['player_dismissed','other_player_dismissed'].count()/12"
   ]
  },
  {
   "cell_type": "code",
   "execution_count": 43,
   "id": "659afda5",
   "metadata": {},
   "outputs": [],
   "source": [
    "rcb_bowling = rcb_df[rcb_df['bowling_team']=='Royal Challengers Bangalore']"
   ]
  },
  {
   "cell_type": "code",
   "execution_count": 44,
   "id": "09919354",
   "metadata": {},
   "outputs": [
    {
     "data": {
      "text/plain": [
       "Field Restrictions\n",
       "Final 5 Overs    443\n",
       "Middle Overs     674\n",
       "Power Play       413\n",
       "Name: runs_off_bat, dtype: int64"
      ]
     },
     "execution_count": 44,
     "metadata": {},
     "output_type": "execute_result"
    }
   ],
   "source": [
    "rcb_bowling.groupby('Field Restrictions')['runs_off_bat'].sum()"
   ]
  },
  {
   "cell_type": "code",
   "execution_count": 45,
   "id": "fa8bc238",
   "metadata": {},
   "outputs": [
    {
     "data": {
      "text/html": [
       "<div>\n",
       "<style scoped>\n",
       "    .dataframe tbody tr th:only-of-type {\n",
       "        vertical-align: middle;\n",
       "    }\n",
       "\n",
       "    .dataframe tbody tr th {\n",
       "        vertical-align: top;\n",
       "    }\n",
       "\n",
       "    .dataframe thead th {\n",
       "        text-align: right;\n",
       "    }\n",
       "</style>\n",
       "<table border=\"1\" class=\"dataframe\">\n",
       "  <thead>\n",
       "    <tr style=\"text-align: right;\">\n",
       "      <th></th>\n",
       "      <th>player_dismissed</th>\n",
       "      <th>other_player_dismissed</th>\n",
       "    </tr>\n",
       "    <tr>\n",
       "      <th>Field Restrictions</th>\n",
       "      <th></th>\n",
       "      <th></th>\n",
       "    </tr>\n",
       "  </thead>\n",
       "  <tbody>\n",
       "    <tr>\n",
       "      <th>Final 5 Overs</th>\n",
       "      <td>19</td>\n",
       "      <td>0</td>\n",
       "    </tr>\n",
       "    <tr>\n",
       "      <th>Middle Overs</th>\n",
       "      <td>29</td>\n",
       "      <td>0</td>\n",
       "    </tr>\n",
       "    <tr>\n",
       "      <th>Power Play</th>\n",
       "      <td>14</td>\n",
       "      <td>0</td>\n",
       "    </tr>\n",
       "  </tbody>\n",
       "</table>\n",
       "</div>"
      ],
      "text/plain": [
       "                    player_dismissed  other_player_dismissed\n",
       "Field Restrictions                                          \n",
       "Final 5 Overs       19                0                     \n",
       "Middle Overs        29                0                     \n",
       "Power Play          14                0                     "
      ]
     },
     "execution_count": 45,
     "metadata": {},
     "output_type": "execute_result"
    }
   ],
   "source": [
    "rcb_batting.groupby('Field Restrictions')['player_dismissed','other_player_dismissed'].count()"
   ]
  },
  {
   "cell_type": "code",
   "execution_count": 46,
   "id": "5dd1679a",
   "metadata": {},
   "outputs": [],
   "source": [
    "rcb_won_bowling_stats= rcb_bowling[(rcb_bowling['start_date']=='2009-05-23')|(rcb_bowling['start_date']=='2011-05-27')|(rcb_bowling['start_date']=='2015-05-20')|(rcb_bowling['start_date']=='2016-05-24')|(rcb_bowling['start_date']=='2022-05-25')]"
   ]
  },
  {
   "cell_type": "code",
   "execution_count": 47,
   "id": "ed8a1cfb",
   "metadata": {},
   "outputs": [
    {
     "data": {
      "text/plain": [
       "Field Restrictions\n",
       "Final 5 Overs    34.00\n",
       "Middle Overs     57.75\n",
       "Power Play       41.00\n",
       "Name: runs_off_bat, dtype: float64"
      ]
     },
     "execution_count": 47,
     "metadata": {},
     "output_type": "execute_result"
    }
   ],
   "source": [
    "#number of watches RCB played in playoffs from 2008-2021 = 12\n",
    "# average runs per segment in winning playoff match\n",
    "rcb_won_bowling_stats.groupby('Field Restrictions')['runs_off_bat'].sum()/4"
   ]
  },
  {
   "cell_type": "code",
   "execution_count": 48,
   "id": "f0737415",
   "metadata": {},
   "outputs": [
    {
     "data": {
      "text/html": [
       "<div>\n",
       "<style scoped>\n",
       "    .dataframe tbody tr th:only-of-type {\n",
       "        vertical-align: middle;\n",
       "    }\n",
       "\n",
       "    .dataframe tbody tr th {\n",
       "        vertical-align: top;\n",
       "    }\n",
       "\n",
       "    .dataframe thead th {\n",
       "        text-align: right;\n",
       "    }\n",
       "</style>\n",
       "<table border=\"1\" class=\"dataframe\">\n",
       "  <thead>\n",
       "    <tr style=\"text-align: right;\">\n",
       "      <th></th>\n",
       "      <th>player_dismissed</th>\n",
       "      <th>other_player_dismissed</th>\n",
       "    </tr>\n",
       "    <tr>\n",
       "      <th>Field Restrictions</th>\n",
       "      <th></th>\n",
       "      <th></th>\n",
       "    </tr>\n",
       "  </thead>\n",
       "  <tbody>\n",
       "    <tr>\n",
       "      <th>Final 5 Overs</th>\n",
       "      <td>3.00</td>\n",
       "      <td>0.0</td>\n",
       "    </tr>\n",
       "    <tr>\n",
       "      <th>Middle Overs</th>\n",
       "      <td>3.50</td>\n",
       "      <td>0.0</td>\n",
       "    </tr>\n",
       "    <tr>\n",
       "      <th>Power Play</th>\n",
       "      <td>1.75</td>\n",
       "      <td>0.0</td>\n",
       "    </tr>\n",
       "  </tbody>\n",
       "</table>\n",
       "</div>"
      ],
      "text/plain": [
       "                    player_dismissed  other_player_dismissed\n",
       "Field Restrictions                                          \n",
       "Final 5 Overs       3.00              0.0                   \n",
       "Middle Overs        3.50              0.0                   \n",
       "Power Play          1.75              0.0                   "
      ]
     },
     "execution_count": 48,
     "metadata": {},
     "output_type": "execute_result"
    }
   ],
   "source": [
    "rcb_won_bowling_stats.groupby('Field Restrictions')['player_dismissed','other_player_dismissed'].count()/4"
   ]
  },
  {
   "cell_type": "code",
   "execution_count": 49,
   "id": "e5ea19c2",
   "metadata": {},
   "outputs": [],
   "source": [
    "rcb_loss_bowling_stats = rcb_bowling[(rcb_bowling['start_date']=='2009-05-24')|(rcb_bowling['start_date']=='2010-04-21')|(rcb_bowling['start_date']=='2011-05-24')|(rcb_bowling['start_date']=='2011-05-28')|(rcb_bowling['start_date']=='2015-05-22')|(rcb_bowling['start_date']=='2016-05-29')|(rcb_bowling['start_date']=='2020-11-06')|(rcb_bowling['start_date']=='2021-10-11')|(rcb_bowling['start_date']=='2022-05-27')]"
   ]
  },
  {
   "cell_type": "code",
   "execution_count": 50,
   "id": "10e1f5cf",
   "metadata": {},
   "outputs": [
    {
     "data": {
      "text/plain": [
       "Field Restrictions\n",
       "Final 5 Overs    38.375\n",
       "Middle Overs     55.375\n",
       "Power Play       31.125\n",
       "Name: runs_off_bat, dtype: float64"
      ]
     },
     "execution_count": 50,
     "metadata": {},
     "output_type": "execute_result"
    }
   ],
   "source": [
    "#number of watches RCB lose in playoffs from 2008-2021 = 8\n",
    "# average runs per segment in winning playoff match\n",
    "rcb_loss_bowling_stats.groupby('Field Restrictions')['runs_off_bat'].sum()/8"
   ]
  },
  {
   "cell_type": "code",
   "execution_count": 51,
   "id": "9769a86a",
   "metadata": {},
   "outputs": [
    {
     "data": {
      "text/html": [
       "<div>\n",
       "<style scoped>\n",
       "    .dataframe tbody tr th:only-of-type {\n",
       "        vertical-align: middle;\n",
       "    }\n",
       "\n",
       "    .dataframe tbody tr th {\n",
       "        vertical-align: top;\n",
       "    }\n",
       "\n",
       "    .dataframe thead th {\n",
       "        text-align: right;\n",
       "    }\n",
       "</style>\n",
       "<table border=\"1\" class=\"dataframe\">\n",
       "  <thead>\n",
       "    <tr style=\"text-align: right;\">\n",
       "      <th></th>\n",
       "      <th>player_dismissed</th>\n",
       "      <th>other_player_dismissed</th>\n",
       "    </tr>\n",
       "    <tr>\n",
       "      <th>Field Restrictions</th>\n",
       "      <th></th>\n",
       "      <th></th>\n",
       "    </tr>\n",
       "  </thead>\n",
       "  <tbody>\n",
       "    <tr>\n",
       "      <th>Final 5 Overs</th>\n",
       "      <td>1.875</td>\n",
       "      <td>0.0</td>\n",
       "    </tr>\n",
       "    <tr>\n",
       "      <th>Middle Overs</th>\n",
       "      <td>1.375</td>\n",
       "      <td>0.0</td>\n",
       "    </tr>\n",
       "    <tr>\n",
       "      <th>Power Play</th>\n",
       "      <td>0.875</td>\n",
       "      <td>0.0</td>\n",
       "    </tr>\n",
       "  </tbody>\n",
       "</table>\n",
       "</div>"
      ],
      "text/plain": [
       "                    player_dismissed  other_player_dismissed\n",
       "Field Restrictions                                          \n",
       "Final 5 Overs       1.875             0.0                   \n",
       "Middle Overs        1.375             0.0                   \n",
       "Power Play          0.875             0.0                   "
      ]
     },
     "execution_count": 51,
     "metadata": {},
     "output_type": "execute_result"
    }
   ],
   "source": [
    "rcb_loss_bowling_stats.groupby('Field Restrictions')['player_dismissed','other_player_dismissed'].count()/8"
   ]
  },
  {
   "cell_type": "code",
   "execution_count": 52,
   "id": "61fa41b9",
   "metadata": {},
   "outputs": [
    {
     "data": {
      "text/plain": [
       "Field Restrictions\n",
       "Final 5 Overs    36.916667\n",
       "Middle Overs     56.166667\n",
       "Power Play       34.416667\n",
       "Name: runs_off_bat, dtype: float64"
      ]
     },
     "execution_count": 52,
     "metadata": {},
     "output_type": "execute_result"
    }
   ],
   "source": [
    "#number of watches RCB played in playoffs from 2008-2021 = 12\n",
    "# average runs per segment in winning playoff match\n",
    "rcb_bowling.groupby('Field Restrictions')['runs_off_bat'].sum()/12"
   ]
  },
  {
   "cell_type": "code",
   "execution_count": 53,
   "id": "7bfd6c41",
   "metadata": {},
   "outputs": [
    {
     "data": {
      "text/html": [
       "<div>\n",
       "<style scoped>\n",
       "    .dataframe tbody tr th:only-of-type {\n",
       "        vertical-align: middle;\n",
       "    }\n",
       "\n",
       "    .dataframe tbody tr th {\n",
       "        vertical-align: top;\n",
       "    }\n",
       "\n",
       "    .dataframe thead th {\n",
       "        text-align: right;\n",
       "    }\n",
       "</style>\n",
       "<table border=\"1\" class=\"dataframe\">\n",
       "  <thead>\n",
       "    <tr style=\"text-align: right;\">\n",
       "      <th></th>\n",
       "      <th>player_dismissed</th>\n",
       "      <th>other_player_dismissed</th>\n",
       "    </tr>\n",
       "    <tr>\n",
       "      <th>Field Restrictions</th>\n",
       "      <th></th>\n",
       "      <th></th>\n",
       "    </tr>\n",
       "  </thead>\n",
       "  <tbody>\n",
       "    <tr>\n",
       "      <th>Final 5 Overs</th>\n",
       "      <td>2.250000</td>\n",
       "      <td>0.0</td>\n",
       "    </tr>\n",
       "    <tr>\n",
       "      <th>Middle Overs</th>\n",
       "      <td>2.083333</td>\n",
       "      <td>0.0</td>\n",
       "    </tr>\n",
       "    <tr>\n",
       "      <th>Power Play</th>\n",
       "      <td>1.166667</td>\n",
       "      <td>0.0</td>\n",
       "    </tr>\n",
       "  </tbody>\n",
       "</table>\n",
       "</div>"
      ],
      "text/plain": [
       "                    player_dismissed  other_player_dismissed\n",
       "Field Restrictions                                          \n",
       "Final 5 Overs       2.250000          0.0                   \n",
       "Middle Overs        2.083333          0.0                   \n",
       "Power Play          1.166667          0.0                   "
      ]
     },
     "execution_count": 53,
     "metadata": {},
     "output_type": "execute_result"
    }
   ],
   "source": [
    "rcb_bowling.groupby('Field Restrictions')['player_dismissed','other_player_dismissed'].count()/12"
   ]
  },
  {
   "cell_type": "code",
   "execution_count": 54,
   "id": "2bff7d69",
   "metadata": {},
   "outputs": [
    {
     "data": {
      "image/png": "[encoded data removed]",
      "text/plain": [
       "<Figure size 576x576 with 4 Axes>"
      ]
     },
     "metadata": {
      "needs_background": "light"
     },
     "output_type": "display_data"
    }
   ],
   "source": [
    "#batting and bowling analysis:\n",
    "fig,axs = plt.subplots(2,2, figsize=(8,8))\n",
    "plt.subplot(2,2,1)\n",
    "\n",
    "plt.title('RCB Batting in Playoffs(Loss)')\n",
    "plt.ylabel('Runs Scored')\n",
    "(rcb_loss_batting_stats.groupby('Field Restrictions')['runs_off_bat'].sum()/8).plot(kind='bar')\n",
    "plt.subplot(2,2,2)\n",
    "\n",
    "plt.title('RCB Batting in Playoffs(Won)')\n",
    "(rcb_won_batting_stats.groupby('Field Restrictions')['runs_off_bat'].sum()/4).plot(kind='bar')\n",
    "plt.subplot(2,2,3)\n",
    "\n",
    "plt.title('RCB Bowling in Playoffs(Loss)')\n",
    "plt.ylabel('Runs given')\n",
    "(rcb_loss_bowling_stats.groupby('Field Restrictions')['runs_off_bat'].sum()/8).plot(kind='bar')\n",
    "plt.subplot(2,2,4)\n",
    "plt.title('RCB Bowling in Playoffs(Win)')\n",
    "\n",
    "(rcb_won_bowling_stats.groupby('Field Restrictions')['runs_off_bat'].sum()/4).plot(kind='bar')\n",
    "plt.subplots_adjust(hspace=1)\n",
    "plt.show()\n",
    "\n"
   ]
  },
  {
   "cell_type": "code",
   "execution_count": 68,
   "id": "c14543e9",
   "metadata": {},
   "outputs": [
    {
     "data": {
      "image/png": "[encoded data removed]",
      "text/plain": [
       "<Figure size 720x720 with 4 Axes>"
      ]
     },
     "metadata": {
      "needs_background": "light"
     },
     "output_type": "display_data"
    }
   ],
   "source": [
    "#Wickets Analysis:\n",
    "fig,axs = plt.subplots(2,2, figsize=(10,10))\n",
    "plt.subplot(2,2,1)\n",
    "plt.title('Average Wickets(When RCB lose)')\n",
    "plt.ylabel('Wickets Lose')\n",
    "(rcb_loss_batting_stats.groupby('Field Restrictions')['player_dismissed'].count()/8).plot(kind='bar')\n",
    "plt.subplot(2,2,2)\n",
    "plt.title('Average Wickets(When RCB Win)')\n",
    "(rcb_won_batting_stats.groupby('Field Restrictions')['player_dismissed'].count()/4).plot(kind='bar')\n",
    "plt.subplot(2,2,3)\n",
    "plt.title('Average Wickets (When RCB lose)')\n",
    "plt.ylabel('Wickets Taken')\n",
    "(rcb_loss_bowling_stats.groupby('Field Restrictions')['player_dismissed'].count()/8).plot(kind='bar')\n",
    "plt.subplot(2,2,4)\n",
    "plt.title('Average Wickets RCB Taken(When RCB win)')\n",
    "(rcb_won_bowling_stats.groupby('Field Restrictions')['player_dismissed'].count()/4).plot(kind='bar')\n",
    "plt.subplots_adjust(hspace=1)\n",
    "plt.show()\n"
   ]
  },
  {
   "cell_type": "code",
   "execution_count": null,
   "id": "e8d9021a",
   "metadata": {},
   "outputs": [],
   "source": [
    "#Conclusion:\n",
    "# RCB given more runs in powerplay and middle overs when they win in play off's than we they lose in play off's\n",
    "# RCB scored less runs in Powerplay, Middle Overs and Final overs when they lose in playoff's than when they win in play off's\n",
    "# RCB lose more wickets in power play when they win in play off's than we they lose in play off's\n",
    "# RCB taken less wicktes in in Powerplay, Middle Overs and Final overs when they lose in playoff's than when they win in play off's"
   ]
  }
 ],
 "metadata": {
  "kernelspec": {
   "display_name": "Python 3 (ipykernel)",
   "language": "python",
   "name": "python3"
  },
  "language_info": {
   "codemirror_mode": {
    "name": "ipython",
    "version": 3
   },
   "file_extension": ".py",
   "mimetype": "text/x-python",
   "name": "python",
   "nbconvert_exporter": "python",
   "pygments_lexer": "ipython3",
   "version": "3.9.12"
  }
 },
 "nbformat": 4,
 "nbformat_minor": 5
}
